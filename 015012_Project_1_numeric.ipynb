{
  "nbformat": 4,
  "nbformat_minor": 0,
  "metadata": {
    "colab": {
      "name": "015012_Project 1_numeric",
      "provenance": [],
      "collapsed_sections": []
    },
    "kernelspec": {
      "name": "python3",
      "display_name": "Python 3"
    },
    "language_info": {
      "name": "python"
    }
  },
  "cells": [
    {
      "cell_type": "code",
      "execution_count": 1,
      "metadata": {
        "colab": {
          "base_uri": "https://localhost:8080/"
        },
        "id": "dJLqsCHA0Jel",
        "outputId": "a9aaa6f0-1f18-4acd-c471-210bdea6a772"
      },
      "outputs": [
        {
          "output_type": "stream",
          "name": "stdout",
          "text": [
            "Mounted at /gdrive\n"
          ]
        }
      ],
      "source": [
        "#Mounting google drive\n",
        "from google.colab import drive\n",
        "drive.mount('/gdrive')"
      ]
    },
    {
      "cell_type": "code",
      "source": [
        "import pandas as pd"
      ],
      "metadata": {
        "id": "AfW_4j4S0KZ_"
      },
      "execution_count": 2,
      "outputs": []
    },
    {
      "cell_type": "code",
      "source": [
        "#Reading dataset\n",
        "df = pd.read_csv(\"/gdrive/MyDrive/vgsales.csv\")"
      ],
      "metadata": {
        "id": "y4cZo4Dy0UxK"
      },
      "execution_count": 3,
      "outputs": []
    },
    {
      "cell_type": "code",
      "source": [
        "# 1.2 Display multiple outputs from a Cell\n",
        "\n",
        "from IPython.core.interactiveshell import InteractiveShell\n",
        "InteractiveShell.ast_node_interactivity = \"all\""
      ],
      "metadata": {
        "id": "SaMUbyzj0kjs"
      },
      "execution_count": 4,
      "outputs": []
    },
    {
      "cell_type": "code",
      "source": [
        "df.head()"
      ],
      "metadata": {
        "colab": {
          "base_uri": "https://localhost:8080/",
          "height": 357
        },
        "id": "6vVyj3tf03jb",
        "outputId": "3f4643a0-518c-4de0-8ceb-a019a8a1e3b4"
      },
      "execution_count": 6,
      "outputs": [
        {
          "output_type": "execute_result",
          "data": {
            "text/html": [
              "\n",
              "  <div id=\"df-5c9e8b37-9841-401c-b000-1021ec3b0ab2\">\n",
              "    <div class=\"colab-df-container\">\n",
              "      <div>\n",
              "<style scoped>\n",
              "    .dataframe tbody tr th:only-of-type {\n",
              "        vertical-align: middle;\n",
              "    }\n",
              "\n",
              "    .dataframe tbody tr th {\n",
              "        vertical-align: top;\n",
              "    }\n",
              "\n",
              "    .dataframe thead th {\n",
              "        text-align: right;\n",
              "    }\n",
              "</style>\n",
              "<table border=\"1\" class=\"dataframe\">\n",
              "  <thead>\n",
              "    <tr style=\"text-align: right;\">\n",
              "      <th></th>\n",
              "      <th>Rank</th>\n",
              "      <th>Name</th>\n",
              "      <th>Platform</th>\n",
              "      <th>Year</th>\n",
              "      <th>Genre</th>\n",
              "      <th>Publisher</th>\n",
              "      <th>NA_Sales</th>\n",
              "      <th>EU_Sales</th>\n",
              "      <th>JP_Sales</th>\n",
              "      <th>Other_Sales</th>\n",
              "      <th>Global_Sales</th>\n",
              "    </tr>\n",
              "  </thead>\n",
              "  <tbody>\n",
              "    <tr>\n",
              "      <th>0</th>\n",
              "      <td>1</td>\n",
              "      <td>Wii Sports</td>\n",
              "      <td>Wii</td>\n",
              "      <td>2006.0</td>\n",
              "      <td>Sports</td>\n",
              "      <td>Nintendo</td>\n",
              "      <td>41.49</td>\n",
              "      <td>29.02</td>\n",
              "      <td>3.77</td>\n",
              "      <td>8.46</td>\n",
              "      <td>82.74</td>\n",
              "    </tr>\n",
              "    <tr>\n",
              "      <th>1</th>\n",
              "      <td>2</td>\n",
              "      <td>Super Mario Bros.</td>\n",
              "      <td>NES</td>\n",
              "      <td>1985.0</td>\n",
              "      <td>Platform</td>\n",
              "      <td>Nintendo</td>\n",
              "      <td>29.08</td>\n",
              "      <td>3.58</td>\n",
              "      <td>6.81</td>\n",
              "      <td>0.77</td>\n",
              "      <td>40.24</td>\n",
              "    </tr>\n",
              "    <tr>\n",
              "      <th>2</th>\n",
              "      <td>3</td>\n",
              "      <td>Mario Kart Wii</td>\n",
              "      <td>Wii</td>\n",
              "      <td>2008.0</td>\n",
              "      <td>Racing</td>\n",
              "      <td>Nintendo</td>\n",
              "      <td>15.85</td>\n",
              "      <td>12.88</td>\n",
              "      <td>3.79</td>\n",
              "      <td>3.31</td>\n",
              "      <td>35.82</td>\n",
              "    </tr>\n",
              "    <tr>\n",
              "      <th>3</th>\n",
              "      <td>4</td>\n",
              "      <td>Wii Sports Resort</td>\n",
              "      <td>Wii</td>\n",
              "      <td>2009.0</td>\n",
              "      <td>Sports</td>\n",
              "      <td>Nintendo</td>\n",
              "      <td>15.75</td>\n",
              "      <td>11.01</td>\n",
              "      <td>3.28</td>\n",
              "      <td>2.96</td>\n",
              "      <td>33.00</td>\n",
              "    </tr>\n",
              "    <tr>\n",
              "      <th>4</th>\n",
              "      <td>5</td>\n",
              "      <td>Pokemon Red/Pokemon Blue</td>\n",
              "      <td>GB</td>\n",
              "      <td>1996.0</td>\n",
              "      <td>Role-Playing</td>\n",
              "      <td>Nintendo</td>\n",
              "      <td>11.27</td>\n",
              "      <td>8.89</td>\n",
              "      <td>10.22</td>\n",
              "      <td>1.00</td>\n",
              "      <td>31.37</td>\n",
              "    </tr>\n",
              "  </tbody>\n",
              "</table>\n",
              "</div>\n",
              "      <button class=\"colab-df-convert\" onclick=\"convertToInteractive('df-5c9e8b37-9841-401c-b000-1021ec3b0ab2')\"\n",
              "              title=\"Convert this dataframe to an interactive table.\"\n",
              "              style=\"display:none;\">\n",
              "        \n",
              "  <svg xmlns=\"http://www.w3.org/2000/svg\" height=\"24px\"viewBox=\"0 0 24 24\"\n",
              "       width=\"24px\">\n",
              "    <path d=\"M0 0h24v24H0V0z\" fill=\"none\"/>\n",
              "    <path d=\"M18.56 5.44l.94 2.06.94-2.06 2.06-.94-2.06-.94-.94-2.06-.94 2.06-2.06.94zm-11 1L8.5 8.5l.94-2.06 2.06-.94-2.06-.94L8.5 2.5l-.94 2.06-2.06.94zm10 10l.94 2.06.94-2.06 2.06-.94-2.06-.94-.94-2.06-.94 2.06-2.06.94z\"/><path d=\"M17.41 7.96l-1.37-1.37c-.4-.4-.92-.59-1.43-.59-.52 0-1.04.2-1.43.59L10.3 9.45l-7.72 7.72c-.78.78-.78 2.05 0 2.83L4 21.41c.39.39.9.59 1.41.59.51 0 1.02-.2 1.41-.59l7.78-7.78 2.81-2.81c.8-.78.8-2.07 0-2.86zM5.41 20L4 18.59l7.72-7.72 1.47 1.35L5.41 20z\"/>\n",
              "  </svg>\n",
              "      </button>\n",
              "      \n",
              "  <style>\n",
              "    .colab-df-container {\n",
              "      display:flex;\n",
              "      flex-wrap:wrap;\n",
              "      gap: 12px;\n",
              "    }\n",
              "\n",
              "    .colab-df-convert {\n",
              "      background-color: #E8F0FE;\n",
              "      border: none;\n",
              "      border-radius: 50%;\n",
              "      cursor: pointer;\n",
              "      display: none;\n",
              "      fill: #1967D2;\n",
              "      height: 32px;\n",
              "      padding: 0 0 0 0;\n",
              "      width: 32px;\n",
              "    }\n",
              "\n",
              "    .colab-df-convert:hover {\n",
              "      background-color: #E2EBFA;\n",
              "      box-shadow: 0px 1px 2px rgba(60, 64, 67, 0.3), 0px 1px 3px 1px rgba(60, 64, 67, 0.15);\n",
              "      fill: #174EA6;\n",
              "    }\n",
              "\n",
              "    [theme=dark] .colab-df-convert {\n",
              "      background-color: #3B4455;\n",
              "      fill: #D2E3FC;\n",
              "    }\n",
              "\n",
              "    [theme=dark] .colab-df-convert:hover {\n",
              "      background-color: #434B5C;\n",
              "      box-shadow: 0px 1px 3px 1px rgba(0, 0, 0, 0.15);\n",
              "      filter: drop-shadow(0px 1px 2px rgba(0, 0, 0, 0.3));\n",
              "      fill: #FFFFFF;\n",
              "    }\n",
              "  </style>\n",
              "\n",
              "      <script>\n",
              "        const buttonEl =\n",
              "          document.querySelector('#df-5c9e8b37-9841-401c-b000-1021ec3b0ab2 button.colab-df-convert');\n",
              "        buttonEl.style.display =\n",
              "          google.colab.kernel.accessAllowed ? 'block' : 'none';\n",
              "\n",
              "        async function convertToInteractive(key) {\n",
              "          const element = document.querySelector('#df-5c9e8b37-9841-401c-b000-1021ec3b0ab2');\n",
              "          const dataTable =\n",
              "            await google.colab.kernel.invokeFunction('convertToInteractive',\n",
              "                                                     [key], {});\n",
              "          if (!dataTable) return;\n",
              "\n",
              "          const docLinkHtml = 'Like what you see? Visit the ' +\n",
              "            '<a target=\"_blank\" href=https://colab.research.google.com/notebooks/data_table.ipynb>data table notebook</a>'\n",
              "            + ' to learn more about interactive tables.';\n",
              "          element.innerHTML = '';\n",
              "          dataTable['output_type'] = 'display_data';\n",
              "          await google.colab.output.renderOutput(dataTable, element);\n",
              "          const docLink = document.createElement('div');\n",
              "          docLink.innerHTML = docLinkHtml;\n",
              "          element.appendChild(docLink);\n",
              "        }\n",
              "      </script>\n",
              "    </div>\n",
              "  </div>\n",
              "  "
            ],
            "text/plain": [
              "   Rank                      Name Platform  ...  JP_Sales Other_Sales Global_Sales\n",
              "0     1                Wii Sports      Wii  ...      3.77        8.46        82.74\n",
              "1     2         Super Mario Bros.      NES  ...      6.81        0.77        40.24\n",
              "2     3            Mario Kart Wii      Wii  ...      3.79        3.31        35.82\n",
              "3     4         Wii Sports Resort      Wii  ...      3.28        2.96        33.00\n",
              "4     5  Pokemon Red/Pokemon Blue       GB  ...     10.22        1.00        31.37\n",
              "\n",
              "[5 rows x 11 columns]"
            ]
          },
          "metadata": {},
          "execution_count": 6
        }
      ]
    },
    {
      "cell_type": "code",
      "source": [
        "num_df = df[['Rank','Year','NA_Sales','EU_Sales','JP_Sales','Other_Sales',\t'Global_Sales']].copy()"
      ],
      "metadata": {
        "id": "otQz3u9u0oi_"
      },
      "execution_count": 7,
      "outputs": []
    },
    {
      "cell_type": "code",
      "source": [
        "y = num_df['Global_Sales']\n",
        "ds = num_df.drop('Global_Sales',axis=1) \n",
        "ds.shape\n",
        "y.shape"
      ],
      "metadata": {
        "colab": {
          "base_uri": "https://localhost:8080/"
        },
        "id": "khgmBxoD0rnZ",
        "outputId": "8d231dbf-8877-41e8-e1ce-a5f88e0f172c"
      },
      "execution_count": 9,
      "outputs": [
        {
          "output_type": "execute_result",
          "data": {
            "text/plain": [
              "(16598, 6)"
            ]
          },
          "metadata": {},
          "execution_count": 9
        },
        {
          "output_type": "execute_result",
          "data": {
            "text/plain": [
              "(16598,)"
            ]
          },
          "metadata": {},
          "execution_count": 9
        }
      ]
    },
    {
      "cell_type": "code",
      "source": [
        "from sklearn.preprocessing import StandardScaler"
      ],
      "metadata": {
        "id": "lVIqdma21Z_f"
      },
      "execution_count": 10,
      "outputs": []
    },
    {
      "cell_type": "code",
      "source": [
        "ss = StandardScaler()\n",
        "X = ss.fit_transform(ds)"
      ],
      "metadata": {
        "id": "3mT9rmpO1nOc"
      },
      "execution_count": 11,
      "outputs": []
    },
    {
      "cell_type": "code",
      "source": [
        "from sklearn.model_selection import train_test_split\n",
        "# 3.0 Split train/test data\n",
        "X_train,X_test, y_train,y_test = train_test_split(X,y,test_size = 0.2)\n",
        "X_train.shape   # (16512, 8)\n",
        "X_test.shape    # (4128, 8)"
      ],
      "metadata": {
        "colab": {
          "base_uri": "https://localhost:8080/"
        },
        "id": "crJ7-8KE1pFz",
        "outputId": "33c9470d-51ae-40bc-e21e-365be17f08e2"
      },
      "execution_count": 12,
      "outputs": [
        {
          "output_type": "execute_result",
          "data": {
            "text/plain": [
              "(13278, 6)"
            ]
          },
          "metadata": {},
          "execution_count": 12
        },
        {
          "output_type": "execute_result",
          "data": {
            "text/plain": [
              "(3320, 6)"
            ]
          },
          "metadata": {},
          "execution_count": 12
        }
      ]
    },
    {
      "cell_type": "code",
      "source": [
        "# Import tensorflow/keras \n",
        "import tensorflow as tf\n",
        "from tensorflow.keras import layers \n",
        "from tensorflow.keras.models import Model\n",
        "from tensorflow.keras.utils import plot_model"
      ],
      "metadata": {
        "id": "ivGcSmZx1qxx"
      },
      "execution_count": 13,
      "outputs": []
    },
    {
      "cell_type": "code",
      "source": [
        "# Design Model\n",
        "inputs = tf.keras.Input(shape = X.shape[1], batch_size=None)\n",
        "type(inputs)"
      ],
      "metadata": {
        "colab": {
          "base_uri": "https://localhost:8080/"
        },
        "id": "8pOOHRGD1sd9",
        "outputId": "3ad03719-9cb9-4497-d259-d4a6e9ebf953"
      },
      "execution_count": 14,
      "outputs": [
        {
          "output_type": "execute_result",
          "data": {
            "text/plain": [
              "keras.engine.keras_tensor.KerasTensor"
            ]
          },
          "metadata": {},
          "execution_count": 14
        }
      ]
    },
    {
      "cell_type": "code",
      "source": [
        "# 3.1.2 Examine the tensor object\n",
        "print(inputs.dtype)\n",
        "print(inputs.shape)\n",
        "print(inputs.name)"
      ],
      "metadata": {
        "colab": {
          "base_uri": "https://localhost:8080/"
        },
        "id": "7iB891N612zN",
        "outputId": "1a63e3ec-8551-4b48-d813-58c6bda013e9"
      },
      "execution_count": 15,
      "outputs": [
        {
          "output_type": "stream",
          "name": "stdout",
          "text": [
            "<dtype: 'float32'>\n",
            "(None, 6)\n",
            "input_1\n"
          ]
        }
      ]
    },
    {
      "cell_type": "code",
      "source": [
        "# 3.2 Add layers. Each layer outputs a tensor:\n",
        "\n",
        "x = layers.Dense(100, activation = 'relu')(inputs)"
      ],
      "metadata": {
        "id": "9QlXgKO314o2"
      },
      "execution_count": 16,
      "outputs": []
    },
    {
      "cell_type": "code",
      "source": [
        "# 3.2.1 Get nature of 'x'\n",
        "\n",
        "print(type(x))\n",
        "print(x.shape )"
      ],
      "metadata": {
        "colab": {
          "base_uri": "https://localhost:8080/"
        },
        "id": "lQDRuspi16rQ",
        "outputId": "41081da9-6ced-427a-c140-32f8a88ab6ea"
      },
      "execution_count": 17,
      "outputs": [
        {
          "output_type": "stream",
          "name": "stdout",
          "text": [
            "<class 'keras.engine.keras_tensor.KerasTensor'>\n",
            "(None, 100)\n"
          ]
        }
      ]
    },
    {
      "cell_type": "code",
      "source": [
        "# 3.2.2 Examine x:\n",
        "\n",
        "type(x)\n",
        "x.shape"
      ],
      "metadata": {
        "colab": {
          "base_uri": "https://localhost:8080/"
        },
        "id": "8N1cKMxj18gV",
        "outputId": "2d207278-da28-4c70-c88b-0ad3960b3090"
      },
      "execution_count": 18,
      "outputs": [
        {
          "output_type": "execute_result",
          "data": {
            "text/plain": [
              "keras.engine.keras_tensor.KerasTensor"
            ]
          },
          "metadata": {},
          "execution_count": 18
        },
        {
          "output_type": "execute_result",
          "data": {
            "text/plain": [
              "TensorShape([None, 100])"
            ]
          },
          "metadata": {},
          "execution_count": 18
        }
      ]
    },
    {
      "cell_type": "code",
      "source": [
        "# 3.3 Add ome more layer:\n",
        "\n",
        "x = layers.Dense(100, activation = 'relu')(x)"
      ],
      "metadata": {
        "id": "7U8hvYRb1-mE"
      },
      "execution_count": 19,
      "outputs": []
    },
    {
      "cell_type": "code",
      "source": [
        "x = tf.keras.layers.concatenate([x,inputs])\n",
        "out = layers.Dense(1,activation = 'sigmoid')(x)\n",
        "\n",
        "# 3.3.1 Create model now\n",
        "model = Model(inputs = [inputs], outputs = [out])"
      ],
      "metadata": {
        "id": "BLvM_m6d2AOH"
      },
      "execution_count": 20,
      "outputs": []
    },
    {
      "cell_type": "code",
      "source": [
        "model.summary()"
      ],
      "metadata": {
        "colab": {
          "base_uri": "https://localhost:8080/"
        },
        "id": "2B26bJ522C9w",
        "outputId": "722e99bf-247a-437c-eaa3-dc43cbf9fdb8"
      },
      "execution_count": 21,
      "outputs": [
        {
          "output_type": "stream",
          "name": "stdout",
          "text": [
            "Model: \"model\"\n",
            "__________________________________________________________________________________________________\n",
            " Layer (type)                   Output Shape         Param #     Connected to                     \n",
            "==================================================================================================\n",
            " input_1 (InputLayer)           [(None, 6)]          0           []                               \n",
            "                                                                                                  \n",
            " dense (Dense)                  (None, 100)          700         ['input_1[0][0]']                \n",
            "                                                                                                  \n",
            " dense_1 (Dense)                (None, 100)          10100       ['dense[0][0]']                  \n",
            "                                                                                                  \n",
            " concatenate (Concatenate)      (None, 106)          0           ['dense_1[0][0]',                \n",
            "                                                                  'input_1[0][0]']                \n",
            "                                                                                                  \n",
            " dense_2 (Dense)                (None, 1)            107         ['concatenate[0][0]']            \n",
            "                                                                                                  \n",
            "==================================================================================================\n",
            "Total params: 10,907\n",
            "Trainable params: 10,907\n",
            "Non-trainable params: 0\n",
            "__________________________________________________________________________________________________\n"
          ]
        }
      ]
    },
    {
      "cell_type": "code",
      "source": [
        "model.compile(loss = \"mean_squared_error\")  \n",
        "history = model.fit(\n",
        "                    X_train,\n",
        "                    y_train,\n",
        "                    epochs = 50,\n",
        "                    verbose = 1\n",
        "                    )"
      ],
      "metadata": {
        "colab": {
          "base_uri": "https://localhost:8080/"
        },
        "id": "P6J2B7vI2E3N",
        "outputId": "133c7587-e331-47ec-db5e-65512c3a8dc1"
      },
      "execution_count": 22,
      "outputs": [
        {
          "output_type": "stream",
          "name": "stdout",
          "text": [
            "Epoch 1/50\n",
            "415/415 [==============================] - 3s 4ms/step - loss: nan\n",
            "Epoch 2/50\n",
            "415/415 [==============================] - 1s 3ms/step - loss: nan\n",
            "Epoch 3/50\n",
            "415/415 [==============================] - 1s 3ms/step - loss: nan\n",
            "Epoch 4/50\n",
            "415/415 [==============================] - 1s 3ms/step - loss: nan\n",
            "Epoch 5/50\n",
            "415/415 [==============================] - 1s 3ms/step - loss: nan\n",
            "Epoch 6/50\n",
            "415/415 [==============================] - 2s 5ms/step - loss: nan\n",
            "Epoch 7/50\n",
            "415/415 [==============================] - 3s 7ms/step - loss: nan\n",
            "Epoch 8/50\n",
            "415/415 [==============================] - 2s 6ms/step - loss: nan\n",
            "Epoch 9/50\n",
            "415/415 [==============================] - 2s 4ms/step - loss: nan\n",
            "Epoch 10/50\n",
            "415/415 [==============================] - 2s 4ms/step - loss: nan\n",
            "Epoch 11/50\n",
            "415/415 [==============================] - 2s 4ms/step - loss: nan\n",
            "Epoch 12/50\n",
            "415/415 [==============================] - 2s 5ms/step - loss: nan\n",
            "Epoch 13/50\n",
            "415/415 [==============================] - 2s 4ms/step - loss: nan\n",
            "Epoch 14/50\n",
            "415/415 [==============================] - 2s 4ms/step - loss: nan\n",
            "Epoch 15/50\n",
            "415/415 [==============================] - 1s 3ms/step - loss: nan\n",
            "Epoch 16/50\n",
            "415/415 [==============================] - 2s 4ms/step - loss: nan\n",
            "Epoch 17/50\n",
            "415/415 [==============================] - 1s 4ms/step - loss: nan\n",
            "Epoch 18/50\n",
            "415/415 [==============================] - 2s 4ms/step - loss: nan\n",
            "Epoch 19/50\n",
            "415/415 [==============================] - 3s 7ms/step - loss: nan\n",
            "Epoch 20/50\n",
            "415/415 [==============================] - 1s 3ms/step - loss: nan\n",
            "Epoch 21/50\n",
            "415/415 [==============================] - 1s 3ms/step - loss: nan\n",
            "Epoch 22/50\n",
            "415/415 [==============================] - 1s 3ms/step - loss: nan\n",
            "Epoch 23/50\n",
            "415/415 [==============================] - 1s 3ms/step - loss: nan\n",
            "Epoch 24/50\n",
            "415/415 [==============================] - 2s 4ms/step - loss: nan\n",
            "Epoch 25/50\n",
            "415/415 [==============================] - 2s 4ms/step - loss: nan\n",
            "Epoch 26/50\n",
            "415/415 [==============================] - 1s 4ms/step - loss: nan\n",
            "Epoch 27/50\n",
            "415/415 [==============================] - 1s 3ms/step - loss: nan\n",
            "Epoch 28/50\n",
            "415/415 [==============================] - 1s 3ms/step - loss: nan\n",
            "Epoch 29/50\n",
            "415/415 [==============================] - 1s 3ms/step - loss: nan\n",
            "Epoch 30/50\n",
            "415/415 [==============================] - 1s 3ms/step - loss: nan\n",
            "Epoch 31/50\n",
            "415/415 [==============================] - 1s 3ms/step - loss: nan\n",
            "Epoch 32/50\n",
            "415/415 [==============================] - 1s 4ms/step - loss: nan\n",
            "Epoch 33/50\n",
            "415/415 [==============================] - 1s 3ms/step - loss: nan\n",
            "Epoch 34/50\n",
            "415/415 [==============================] - 1s 3ms/step - loss: nan\n",
            "Epoch 35/50\n",
            "415/415 [==============================] - 1s 3ms/step - loss: nan\n",
            "Epoch 36/50\n",
            "415/415 [==============================] - 1s 3ms/step - loss: nan\n",
            "Epoch 37/50\n",
            "415/415 [==============================] - 1s 3ms/step - loss: nan\n",
            "Epoch 38/50\n",
            "415/415 [==============================] - 1s 3ms/step - loss: nan\n",
            "Epoch 39/50\n",
            "415/415 [==============================] - 1s 3ms/step - loss: nan\n",
            "Epoch 40/50\n",
            "415/415 [==============================] - 1s 3ms/step - loss: nan\n",
            "Epoch 41/50\n",
            "415/415 [==============================] - 1s 3ms/step - loss: nan\n",
            "Epoch 42/50\n",
            "415/415 [==============================] - 2s 5ms/step - loss: nan\n",
            "Epoch 43/50\n",
            "415/415 [==============================] - 1s 2ms/step - loss: nan\n",
            "Epoch 44/50\n",
            "415/415 [==============================] - 1s 2ms/step - loss: nan\n",
            "Epoch 45/50\n",
            "415/415 [==============================] - 1s 2ms/step - loss: nan\n",
            "Epoch 46/50\n",
            "415/415 [==============================] - 1s 2ms/step - loss: nan\n",
            "Epoch 47/50\n",
            "415/415 [==============================] - 1s 2ms/step - loss: nan\n",
            "Epoch 48/50\n",
            "415/415 [==============================] - 1s 2ms/step - loss: nan\n",
            "Epoch 49/50\n",
            "415/415 [==============================] - 1s 2ms/step - loss: nan\n",
            "Epoch 50/50\n",
            "415/415 [==============================] - 1s 2ms/step - loss: nan\n"
          ]
        }
      ]
    },
    {
      "cell_type": "code",
      "source": [
        "model.evaluate(X_test,y_test)  # 2.56280517578125"
      ],
      "metadata": {
        "colab": {
          "base_uri": "https://localhost:8080/"
        },
        "id": "yUWciiWV2NwK",
        "outputId": "ac0deae7-2892-4c36-86e6-8452bc1e6de0"
      },
      "execution_count": 23,
      "outputs": [
        {
          "output_type": "stream",
          "name": "stdout",
          "text": [
            "104/104 [==============================] - 0s 1ms/step - loss: nan\n"
          ]
        },
        {
          "output_type": "execute_result",
          "data": {
            "text/plain": [
              "nan"
            ]
          },
          "metadata": {},
          "execution_count": 23
        }
      ]
    },
    {
      "cell_type": "code",
      "source": [
        "#4.1 Regarding train data\n",
        "no_of_samples_tr = X_train.shape[0]             # Each row is one sample: 7705\n",
        "input_features = X_train.shape[1]               # No of features: 178\n",
        "channels = 1\n",
        "batch_size_tr = no_of_samples_tr "
      ],
      "metadata": {
        "id": "8P5wXFl32ujM"
      },
      "execution_count": 25,
      "outputs": []
    },
    {
      "cell_type": "code",
      "source": [
        "\n",
        "# 4.2 Regarding test data\n",
        "no_of_samples_test = X_test.shape[0]           # 3795\n",
        "input_features = X_test.shape[1]               # No of features. 178\n",
        "channels = 1\n",
        "batch_size_test = no_of_samples_test           # 3795"
      ],
      "metadata": {
        "id": "IBGD4yO920nF"
      },
      "execution_count": 26,
      "outputs": []
    },
    {
      "cell_type": "code",
      "source": [
        "# 4.3 Reshape input train/test data as required by Keras for conv1D\n",
        "train = X_train.reshape((no_of_samples_tr  , input_features, channels))\n",
        "test  = X_test.reshape(( no_of_samples_test, input_features, channels))"
      ],
      "metadata": {
        "id": "wm-hZXwh2293"
      },
      "execution_count": 27,
      "outputs": []
    },
    {
      "cell_type": "code",
      "source": [
        " # 5.0 Design model\n",
        "\n",
        "# 5.1 Inputs to model. Note that inputs is NOT\n",
        "#       a part of layers object\n",
        "\n",
        "inputs = tf.keras.Input(shape = (X.shape[1],1))"
      ],
      "metadata": {
        "id": "auydwXQz26Xg"
      },
      "execution_count": 28,
      "outputs": []
    },
    {
      "cell_type": "code",
      "source": [
        "# 5.2 Add convolution layers to left arm\n",
        "x_left = layers.Conv1D(\n",
        "                       filters = 32,\n",
        "                       kernel_size=3,\n",
        "                       activation='relu'\n",
        "                       )(inputs)\n",
        "\n",
        "# 5.2.1\n",
        "x_left = layers.Conv1D(\n",
        "                       filters = 64,\n",
        "                       kernel_size=3,\n",
        "                       activation='relu'\n",
        "                       )(x_left)"
      ],
      "metadata": {
        "id": "ceXUDQvt27mi"
      },
      "execution_count": 29,
      "outputs": []
    },
    {
      "cell_type": "code",
      "source": [
        "# 5.3 Add convolution layers to right arm\n",
        "\n",
        "x_rt = layers.Conv1D(filters = 64, kernel_size=3,activation='relu')(inputs)\n",
        "\n",
        "# 5.3.1\n",
        "x_rt = layers.Conv1D(filters = 128, kernel_size=3,activation='relu')(x_rt)\n"
      ],
      "metadata": {
        "id": "6Mx1cwQB2_ei"
      },
      "execution_count": 30,
      "outputs": []
    },
    {
      "cell_type": "code",
      "source": [
        "x = tf.keras.layers.concatenate([x_left,x_rt])"
      ],
      "metadata": {
        "id": "vGhcNdkE2_RP"
      },
      "execution_count": 31,
      "outputs": []
    },
    {
      "cell_type": "code",
      "source": [
        "x = layers.Dense(64, activation = 'relu')(x)\n",
        "x = layers.Dropout(0.5)(x)\n",
        "x = layers.Dense(128, activation = 'relu')(x)"
      ],
      "metadata": {
        "id": "C9-rDFKR3IF7"
      },
      "execution_count": 32,
      "outputs": []
    },
    {
      "cell_type": "code",
      "source": [
        "out = layers.Dense(1,activation = 'sigmoid')(x)"
      ],
      "metadata": {
        "id": "fuIRp5-R3H6I"
      },
      "execution_count": 33,
      "outputs": []
    },
    {
      "cell_type": "code",
      "source": [
        "model1 = Model(inputs = [inputs], outputs = [out])"
      ],
      "metadata": {
        "id": "UZbQTf883ROq"
      },
      "execution_count": 34,
      "outputs": []
    },
    {
      "cell_type": "code",
      "source": [
        "plot_model(model1, show_shapes= True)"
      ],
      "metadata": {
        "colab": {
          "base_uri": "https://localhost:8080/",
          "height": 658
        },
        "id": "z2d7uFrP2RN0",
        "outputId": "481453bc-3d10-4141-9e48-537c8a540249"
      },
      "execution_count": 36,
      "outputs": [
        {
          "output_type": "execute_result",
          "data": {
            "image/png": "[encoded data removed]",
            "text/plain": [
              "<IPython.core.display.Image object>"
            ]
          },
          "metadata": {},
          "execution_count": 36
        }
      ]
    },
    {
      "cell_type": "code",
      "source": [
        "# 5.8 Compile model\n",
        "\n",
        "model1.compile(loss = \"mean_squared_error\", optimizer='adam')  \n",
        "history = model1.fit(\n",
        "                    train,\n",
        "                    y_train,\n",
        "                    epochs = 50,\n",
        "                    verbose = 1\n",
        "                    )"
      ],
      "metadata": {
        "colab": {
          "base_uri": "https://localhost:8080/"
        },
        "id": "4s2U_DQY2a4u",
        "outputId": "c7c6b525-f9c3-412d-b2c5-f661d4576551"
      },
      "execution_count": 37,
      "outputs": [
        {
          "output_type": "stream",
          "name": "stdout",
          "text": [
            "Epoch 1/50\n",
            "415/415 [==============================] - 4s 6ms/step - loss: nan\n",
            "Epoch 2/50\n",
            "415/415 [==============================] - 3s 7ms/step - loss: nan\n",
            "Epoch 3/50\n",
            "415/415 [==============================] - 3s 7ms/step - loss: nan\n",
            "Epoch 4/50\n",
            "415/415 [==============================] - 2s 5ms/step - loss: nan\n",
            "Epoch 5/50\n",
            "415/415 [==============================] - 2s 4ms/step - loss: nan\n",
            "Epoch 6/50\n",
            "415/415 [==============================] - 2s 5ms/step - loss: nan\n",
            "Epoch 7/50\n",
            "415/415 [==============================] - 2s 5ms/step - loss: nan\n",
            "Epoch 8/50\n",
            "415/415 [==============================] - 2s 5ms/step - loss: nan\n",
            "Epoch 9/50\n",
            "415/415 [==============================] - 2s 5ms/step - loss: nan\n",
            "Epoch 10/50\n",
            "415/415 [==============================] - 2s 4ms/step - loss: nan\n",
            "Epoch 11/50\n",
            "415/415 [==============================] - 2s 4ms/step - loss: nan\n",
            "Epoch 12/50\n",
            "415/415 [==============================] - 2s 4ms/step - loss: nan\n",
            "Epoch 13/50\n",
            "415/415 [==============================] - 2s 6ms/step - loss: nan\n",
            "Epoch 14/50\n",
            "415/415 [==============================] - 3s 6ms/step - loss: nan\n",
            "Epoch 15/50\n",
            "415/415 [==============================] - 3s 6ms/step - loss: nan\n",
            "Epoch 16/50\n",
            "415/415 [==============================] - 3s 7ms/step - loss: nan\n",
            "Epoch 17/50\n",
            "415/415 [==============================] - 2s 6ms/step - loss: nan\n",
            "Epoch 18/50\n",
            "415/415 [==============================] - 2s 4ms/step - loss: nan\n",
            "Epoch 19/50\n",
            "415/415 [==============================] - 2s 4ms/step - loss: nan\n",
            "Epoch 20/50\n",
            "415/415 [==============================] - 2s 4ms/step - loss: nan\n",
            "Epoch 21/50\n",
            "415/415 [==============================] - 2s 5ms/step - loss: nan\n",
            "Epoch 22/50\n",
            "415/415 [==============================] - 2s 5ms/step - loss: nan\n",
            "Epoch 23/50\n",
            "415/415 [==============================] - 2s 5ms/step - loss: nan\n",
            "Epoch 24/50\n",
            "415/415 [==============================] - 2s 5ms/step - loss: nan\n",
            "Epoch 25/50\n",
            "415/415 [==============================] - 2s 5ms/step - loss: nan\n",
            "Epoch 26/50\n",
            "415/415 [==============================] - 2s 5ms/step - loss: nan\n",
            "Epoch 27/50\n",
            "415/415 [==============================] - 2s 5ms/step - loss: nan\n",
            "Epoch 28/50\n",
            "415/415 [==============================] - 2s 5ms/step - loss: nan\n",
            "Epoch 29/50\n",
            "415/415 [==============================] - 2s 5ms/step - loss: nan\n",
            "Epoch 30/50\n",
            "415/415 [==============================] - 2s 5ms/step - loss: nan\n",
            "Epoch 31/50\n",
            "415/415 [==============================] - 2s 5ms/step - loss: nan\n",
            "Epoch 32/50\n",
            "415/415 [==============================] - 2s 5ms/step - loss: nan\n",
            "Epoch 33/50\n",
            "415/415 [==============================] - 2s 5ms/step - loss: nan\n",
            "Epoch 34/50\n",
            "415/415 [==============================] - 2s 5ms/step - loss: nan\n",
            "Epoch 35/50\n",
            "415/415 [==============================] - 2s 5ms/step - loss: nan\n",
            "Epoch 36/50\n",
            "415/415 [==============================] - 2s 5ms/step - loss: nan\n",
            "Epoch 37/50\n",
            "415/415 [==============================] - 2s 5ms/step - loss: nan\n",
            "Epoch 38/50\n",
            "415/415 [==============================] - 2s 5ms/step - loss: nan\n",
            "Epoch 39/50\n",
            "415/415 [==============================] - 2s 5ms/step - loss: nan\n",
            "Epoch 40/50\n",
            "415/415 [==============================] - 2s 5ms/step - loss: nan\n",
            "Epoch 41/50\n",
            "415/415 [==============================] - 2s 4ms/step - loss: nan\n",
            "Epoch 42/50\n",
            "415/415 [==============================] - 2s 5ms/step - loss: nan\n",
            "Epoch 43/50\n",
            "415/415 [==============================] - 2s 5ms/step - loss: nan\n",
            "Epoch 44/50\n",
            "415/415 [==============================] - 2s 5ms/step - loss: nan\n",
            "Epoch 45/50\n",
            "415/415 [==============================] - 2s 4ms/step - loss: nan\n",
            "Epoch 46/50\n",
            "415/415 [==============================] - 2s 5ms/step - loss: nan\n",
            "Epoch 47/50\n",
            "415/415 [==============================] - 2s 5ms/step - loss: nan\n",
            "Epoch 48/50\n",
            "415/415 [==============================] - 2s 5ms/step - loss: nan\n",
            "Epoch 49/50\n",
            "415/415 [==============================] - 2s 5ms/step - loss: nan\n",
            "Epoch 50/50\n",
            "415/415 [==============================] - 2s 5ms/step - loss: nan\n"
          ]
        }
      ]
    },
    {
      "cell_type": "code",
      "source": [
        "# 5.9 \n",
        "model1.evaluate(test,y_test) "
      ],
      "metadata": {
        "colab": {
          "base_uri": "https://localhost:8080/"
        },
        "id": "JgS8zBWg3cSj",
        "outputId": "960e03e3-3198-4797-ba92-8f96eedce981"
      },
      "execution_count": 38,
      "outputs": [
        {
          "output_type": "stream",
          "name": "stdout",
          "text": [
            "104/104 [==============================] - 0s 2ms/step - loss: nan\n"
          ]
        },
        {
          "output_type": "execute_result",
          "data": {
            "text/plain": [
              "nan"
            ]
          },
          "metadata": {},
          "execution_count": 38
        }
      ]
    },
    {
      "cell_type": "code",
      "source": [
        ""
      ],
      "metadata": {
        "id": "o5rg5_3V3jK3"
      },
      "execution_count": null,
      "outputs": []
    }
  ]
}